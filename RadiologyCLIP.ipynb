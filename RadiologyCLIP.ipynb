{
  "nbformat": 4,
  "nbformat_minor": 0,
  "metadata": {
    "colab": {
      "provenance": [],
      "gpuType": "T4",
      "include_colab_link": true
    },
    "kernelspec": {
      "name": "python3",
      "display_name": "Python 3"
    },
    "language_info": {
      "name": "python"
    },
    "accelerator": "GPU"
  },
  "cells": [
    {
      "cell_type": "markdown",
      "metadata": {
        "id": "view-in-github",
        "colab_type": "text"
      },
      "source": [
        "<a href=\"https://colab.research.google.com/github/ayyucedemirbas/RadiologyCLIP/blob/main/RadiologyCLIP.ipynb\" target=\"_parent\"><img src=\"https://colab.research.google.com/assets/colab-badge.svg\" alt=\"Open In Colab\"/></a>"
      ]
    },
    {
      "cell_type": "code",
      "source": [
        "import os\n",
        "import random\n",
        "import json\n",
        "import pandas as pd\n",
        "import numpy as np\n",
        "import tensorflow as tf\n",
        "from tensorflow.keras import layers, models\n",
        "from tensorflow.keras.preprocessing.text import Tokenizer\n",
        "from tensorflow.keras.preprocessing.image import load_img, img_to_array"
      ],
      "metadata": {
        "id": "HTtaRbEhSzv2"
      },
      "execution_count": 1,
      "outputs": []
    },
    {
      "cell_type": "code",
      "source": [
        "!wget https://openi.nlm.nih.gov/imgs/collections/NLMCXR_png.tgz"
      ],
      "metadata": {
        "colab": {
          "base_uri": "https://localhost:8080/"
        },
        "id": "uTgnbLK7S2Wi",
        "outputId": "ee6a2c21-025c-4dd6-b49b-51fb0c4652a1"
      },
      "execution_count": 2,
      "outputs": [
        {
          "output_type": "stream",
          "name": "stdout",
          "text": [
            "--2025-02-01 17:53:08--  https://openi.nlm.nih.gov/imgs/collections/NLMCXR_png.tgz\n",
            "Resolving openi.nlm.nih.gov (openi.nlm.nih.gov)... 130.14.65.157, 2607:f220:41e:7065::157\n",
            "Connecting to openi.nlm.nih.gov (openi.nlm.nih.gov)|130.14.65.157|:443... connected.\n",
            "HTTP request sent, awaiting response... 200 OK\n",
            "Length: 1360814128 (1.3G) [application/x-gzip]\n",
            "Saving to: ‘NLMCXR_png.tgz’\n",
            "\n",
            "NLMCXR_png.tgz      100%[===================>]   1.27G  1.99MB/s    in 11m 0s  \n",
            "\n",
            "2025-02-01 18:04:08 (1.97 MB/s) - ‘NLMCXR_png.tgz’ saved [1360814128/1360814128]\n",
            "\n"
          ]
        }
      ]
    },
    {
      "cell_type": "code",
      "source": [
        "!wget https://openi.nlm.nih.gov/imgs/collections/NLMCXR_reports.tgz"
      ],
      "metadata": {
        "colab": {
          "base_uri": "https://localhost:8080/"
        },
        "id": "Kf5uaJSHS-2W",
        "outputId": "d2c983c4-d9c6-40ea-b9fc-5beb0967cc54"
      },
      "execution_count": 3,
      "outputs": [
        {
          "output_type": "stream",
          "name": "stdout",
          "text": [
            "--2025-02-01 18:04:27--  https://openi.nlm.nih.gov/imgs/collections/NLMCXR_reports.tgz\n",
            "Resolving openi.nlm.nih.gov (openi.nlm.nih.gov)... 130.14.65.157, 2607:f220:41e:7065::157\n",
            "Connecting to openi.nlm.nih.gov (openi.nlm.nih.gov)|130.14.65.157|:443... connected.\n",
            "HTTP request sent, awaiting response... 200 OK\n",
            "Length: 1112632 (1.1M) [application/x-gzip]\n",
            "Saving to: ‘NLMCXR_reports.tgz’\n",
            "\n",
            "NLMCXR_reports.tgz  100%[===================>]   1.06M  1.69MB/s    in 0.6s    \n",
            "\n",
            "2025-02-01 18:04:28 (1.69 MB/s) - ‘NLMCXR_reports.tgz’ saved [1112632/1112632]\n",
            "\n"
          ]
        }
      ]
    },
    {
      "cell_type": "code",
      "source": [
        "!mkdir workdir"
      ],
      "metadata": {
        "id": "0JeibBNWekj2"
      },
      "execution_count": 4,
      "outputs": []
    },
    {
      "cell_type": "code",
      "source": [
        "%cd workdir"
      ],
      "metadata": {
        "colab": {
          "base_uri": "https://localhost:8080/"
        },
        "id": "ZlruHtxeeme3",
        "outputId": "82020089-29eb-44e0-f2a5-ebe6beddb8f8"
      },
      "execution_count": 5,
      "outputs": [
        {
          "output_type": "stream",
          "name": "stdout",
          "text": [
            "/content/workdir\n"
          ]
        }
      ]
    },
    {
      "cell_type": "code",
      "source": [
        "!tar -xvzf /content/NLMCXR_png.tgz -C .\n",
        "!tar -xvzf /content/NLMCXR_reports.tgz -C ."
      ],
      "metadata": {
        "id": "Egz8vlPCihAa"
      },
      "execution_count": null,
      "outputs": []
    },
    {
      "cell_type": "code",
      "source": [
        "%cd .."
      ],
      "metadata": {
        "colab": {
          "base_uri": "https://localhost:8080/"
        },
        "id": "JUWF8ag4ijl6",
        "outputId": "2e830b7e-bcdd-4ea6-af88-5645aa00797f"
      },
      "execution_count": 7,
      "outputs": [
        {
          "output_type": "stream",
          "name": "stdout",
          "text": [
            "/content\n"
          ]
        }
      ]
    },
    {
      "cell_type": "code",
      "source": [
        "!mv workdir/ecgen-radiology ."
      ],
      "metadata": {
        "id": "KKGa09tLiyJT"
      },
      "execution_count": 8,
      "outputs": []
    },
    {
      "cell_type": "code",
      "source": [
        "!ls -al"
      ],
      "metadata": {
        "id": "xa9oVr5_i1x1",
        "colab": {
          "base_uri": "https://localhost:8080/"
        },
        "outputId": "2080fe55-f815-4f50-dbed-3fb5bf25e85b"
      },
      "execution_count": 9,
      "outputs": [
        {
          "output_type": "stream",
          "name": "stdout",
          "text": [
            "total 1330472\n",
            "drwxr-xr-x 1 root root       4096 Feb  1 18:05 .\n",
            "drwxr-xr-x 1 root root       4096 Feb  1 17:48 ..\n",
            "drwxr-xr-x 4 root root       4096 Jan 30 14:18 .config\n",
            "drwxr-xr-x 2  929  212      94208 Feb  4  2016 ecgen-radiology\n",
            "-rw-r--r-- 1 root root 1360814128 Sep  6  2016 NLMCXR_png.tgz\n",
            "-rw-r--r-- 1 root root    1112632 Jun  6  2017 NLMCXR_reports.tgz\n",
            "drwxr-xr-x 1 root root       4096 Jan 30 14:19 sample_data\n",
            "drwxr-xr-x 2   48   48     352256 Feb  1 18:05 workdir\n"
          ]
        }
      ]
    },
    {
      "cell_type": "code",
      "source": [
        "import xml.etree.ElementTree as ET"
      ],
      "metadata": {
        "id": "O0-d4j20inSA"
      },
      "execution_count": 10,
      "outputs": []
    },
    {
      "cell_type": "code",
      "source": [
        "def find_valid_pairs(image_dir='workdir', report_dir='ecgen-radiology'):\n",
        "    valid_pairs = []\n",
        "    report_files = {}\n",
        "\n",
        "    for root, _, files in os.walk(report_dir):\n",
        "        for f in files:\n",
        "            if f.lower().endswith('.xml'):\n",
        "                base_name = os.path.splitext(f)[0].lower()\n",
        "                report_files[base_name] = os.path.join(root, f)\n",
        "\n",
        "    for root, _, files in os.walk(image_dir):\n",
        "        for f in files:\n",
        "            if f.lower().endswith('.png'):\n",
        "                base_name = os.path.splitext(f)[0].lower()\n",
        "                if base_name in report_files:\n",
        "                    valid_pairs.append((\n",
        "                        os.path.join(root, f),\n",
        "                        report_files[base_name]\n",
        "                    ))\n",
        "    return valid_pairs\n",
        "\n",
        "\n",
        "def parse_xml_report(xml_path):\n",
        "    try:\n",
        "        tree = ET.parse(xml_path)\n",
        "        root = tree.getroot()\n",
        "        ns = {'pmc': 'http://www.ncbi.nlm.nih.gov/pmc/articles/PMC'}\n",
        "\n",
        "        findings_elem = root.find(\".//pmc:AbstractText[@Label='FINDINGS']\", ns)\n",
        "        impression_elem = root.find(\".//pmc:AbstractText[@Label='IMPRESSION']\", ns)\n",
        "\n",
        "        findings = findings_elem.text.strip() if (findings_elem is not None and findings_elem.text) else \"\"\n",
        "        impression = impression_elem.text.strip() if (impression_elem is not None and impression_elem.text) else \"\"\n",
        "\n",
        "        if not findings and not impression:\n",
        "            return None\n",
        "\n",
        "        return f\"FINDINGS: {findings}. IMPRESSION: {impression}\"\n",
        "\n",
        "    except Exception as e:\n",
        "        print(f\"Error parsing {xml_path}: {str(e)}\")\n",
        "        return None\n"
      ],
      "metadata": {
        "id": "Ka7j4WAni3yp"
      },
      "execution_count": 11,
      "outputs": []
    },
    {
      "cell_type": "code",
      "source": [
        "import os\n",
        "import xml.etree.ElementTree as ET\n",
        "import pandas as pd\n",
        "\n",
        "def parse_xml_report(xml_path):\n",
        "    try:\n",
        "        tree = ET.parse(xml_path)\n",
        "        root = tree.getroot()\n",
        "        ns = {'pmc': 'http://www.ncbi.nlm.nih.gov/pmc/articles/PMC'}\n",
        "\n",
        "        findings = root.find(\".//AbstractText[@Label='FINDINGS']\", ns)\n",
        "        impression = root.find(\".//AbstractText[@Label='IMPRESSION']\", ns)\n",
        "\n",
        "        findings_text = findings.text.strip() if (findings is not None and findings.text) else \"\"\n",
        "        impression_text = impression.text.strip() if (impression is not None and impression.text) else \"\"\n",
        "\n",
        "        if not findings_text and not impression_text:\n",
        "            return None, []\n",
        "\n",
        "        image_ids = [img.get('id') for img in root.findall('.//parentImage')]\n",
        "\n",
        "        image_paths = [f\"workdir/{img_id}.png\" for img_id in image_ids]\n",
        "\n",
        "        return (\n",
        "            f\"FINDINGS: {findings_text}. IMPRESSION: {impression_text}\",\n",
        "            image_paths\n",
        "        )\n",
        "\n",
        "    except Exception as e:\n",
        "        print(f\"Error parsing {xml_path}: {str(e)}\")\n",
        "        return None, []\n",
        "\n",
        "def create_dataset():\n",
        "    data = []\n",
        "\n",
        "    for root_dir, _, files in os.walk(\"ecgen-radiology\"):\n",
        "        for file in files:\n",
        "            if file.lower().endswith('.xml'):\n",
        "                xml_path = os.path.join(root_dir, file)\n",
        "                report_text, image_paths = parse_xml_report(xml_path)\n",
        "\n",
        "                if report_text and image_paths:\n",
        "                    for img_path in image_paths:\n",
        "                        if os.path.exists(img_path):\n",
        "                            data.append({\n",
        "                                'image_path': img_path,\n",
        "                                'report': report_text\n",
        "                            })\n",
        "                        else:\n",
        "                            print(f\"Missing image: {img_path}\")\n",
        "\n",
        "    return pd.DataFrame(data)\n",
        "\n",
        "radiology_df = create_dataset()\n",
        "print(f\"Found {len(radiology_df)} valid image-report pairs\")\n",
        "\n",
        "if not radiology_df.empty:\n",
        "    print(\"\\nSample entry:\")\n",
        "    print(f\"Image path: {radiology_df.iloc[0]['image_path']}\")\n",
        "    print(f\"Report: {radiology_df.iloc[0]['report']}\")\n",
        "else:\n",
        "    print(\"\\nNo valid pairs found. Check:\")\n",
        "    print(\"- XML files in ecgen-radiology directory\")\n",
        "    print(\"- Image files in workdir directory\")\n",
        "    print(\"- File naming consistency between XML and PNG files\")"
      ],
      "metadata": {
        "colab": {
          "base_uri": "https://localhost:8080/"
        },
        "id": "Yjyjyp2HjClS",
        "outputId": "f38c9359-2748-49d8-bda5-9071359b4298"
      },
      "execution_count": 12,
      "outputs": [
        {
          "output_type": "stream",
          "name": "stdout",
          "text": [
            "Found 7430 valid image-report pairs\n",
            "\n",
            "Sample entry:\n",
            "Image path: workdir/CXR1329_IM-0211-1001.png\n",
            "Report: FINDINGS: Two nodules are noted in the right XXXX XXXX measuring 13 mm and one measuring 16 mm in diameter. The smaller one appears to be within the right upper lobe and the large XXXX appears to be within the left lower lobe. No focal consolidation and no other pulmonary nodules are identified. However, if a full evaluation for lung nodules is desired consider XXXX for further evaluation. No pleural effusions or pneumothoraces. Heart and mediastinum of normal size and contour.. IMPRESSION: At XXXX 2 right lung pulmonary nodules concerning for<BR>metastatic disease\n"
          ]
        }
      ]
    },
    {
      "cell_type": "code",
      "source": [
        "tokenizer = Tokenizer(\n",
        "    num_words=5000,\n",
        "    oov_token=\"\",\n",
        "    filters='!\"#$%&()*+.,-/:;=?@[\\]^_`{|}~ '\n",
        ")\n",
        "\n",
        "\n",
        "tokenizer.fit_on_texts(radiology_df['report'])\n",
        "vocab_size = len(tokenizer.word_index) + 1\n",
        "max_length = 100\n",
        "\n",
        "\n",
        "print([word for word in tokenizer.word_index if \"pneumonia\" in word or \"effusion\" in word][:10])"
      ],
      "metadata": {
        "colab": {
          "base_uri": "https://localhost:8080/"
        },
        "id": "oYb2IL0AjLF7",
        "outputId": "f3895f8b-cda2-477c-f458-f41433c07c43"
      },
      "execution_count": 13,
      "outputs": [
        {
          "output_type": "stream",
          "name": "stdout",
          "text": [
            "['effusion', 'effusions', 'pneumonia']\n"
          ]
        }
      ]
    },
    {
      "cell_type": "code",
      "source": [
        "def preprocess_sample(sample):\n",
        "    img = load_img(sample['image_path'], target_size=(224, 224))\n",
        "    img = img_to_array(img) / 255.0\n",
        "\n",
        "    seq = tokenizer.texts_to_sequences([sample['report']])[0]\n",
        "    seq = tf.keras.preprocessing.sequence.pad_sequences([seq], maxlen=max_length, padding='post')[0]\n",
        "    return img, seq\n",
        "\n",
        "def dataset_generator(df):\n",
        "    for idx, row in df.iterrows():\n",
        "        yield {'image_path': row['image_path'], 'report': row['report']}"
      ],
      "metadata": {
        "id": "jU7ZBCnNkA2i"
      },
      "execution_count": 14,
      "outputs": []
    },
    {
      "cell_type": "code",
      "source": [
        "output_signature = {\n",
        "    'image_path': tf.TensorSpec(shape=(), dtype=tf.string),\n",
        "    'report': tf.TensorSpec(shape=(), dtype=tf.string)\n",
        "}\n",
        "\n",
        "ds = tf.data.Dataset.from_generator(\n",
        "    lambda: dataset_generator(radiology_df),\n",
        "    output_signature=output_signature\n",
        ")"
      ],
      "metadata": {
        "id": "_D9vjde0kCah"
      },
      "execution_count": 15,
      "outputs": []
    },
    {
      "cell_type": "code",
      "source": [
        "def map_func(image_path, report):\n",
        "    image_path = image_path.numpy().decode('utf-8')\n",
        "    report = report.numpy().decode('utf-8')\n",
        "    img, seq = preprocess_sample({'image_path': image_path, 'report': report})\n",
        "    return img, seq\n",
        "\n",
        "def tf_map_func(image_path, report):\n",
        "    img, seq = tf.py_function(\n",
        "        func=map_func,\n",
        "        inp=[image_path, report],\n",
        "        Tout=[tf.float32, tf.int32]\n",
        "    )\n",
        "    img.set_shape((224, 224, 3))\n",
        "    seq.set_shape((max_length,))\n",
        "    return img, seq"
      ],
      "metadata": {
        "id": "PdbwBiS0kHhC"
      },
      "execution_count": 16,
      "outputs": []
    },
    {
      "cell_type": "code",
      "source": [
        "batch_size = 16\n",
        "AUTOTUNE = tf.data.AUTOTUNE"
      ],
      "metadata": {
        "id": "G1d7uEcmkJJg"
      },
      "execution_count": 17,
      "outputs": []
    },
    {
      "cell_type": "code",
      "source": [
        "ds = ds.shuffle(buffer_size=len(radiology_df))\n",
        "ds = ds.map(lambda sample: tf_map_func(sample['image_path'], sample['report']),\n",
        "            num_parallel_calls=AUTOTUNE)\n",
        "ds = ds.batch(batch_size)\n",
        "ds = ds.prefetch(AUTOTUNE)"
      ],
      "metadata": {
        "id": "42dpQPw7kLGV"
      },
      "execution_count": 18,
      "outputs": []
    },
    {
      "cell_type": "code",
      "source": [
        "embedding_dim = 256\n",
        "num_transformer_blocks = 4\n",
        "num_heads = 8\n",
        "ff_dim = 512\n",
        "image_size = 224"
      ],
      "metadata": {
        "id": "7VP1KQfpkjEQ"
      },
      "execution_count": 19,
      "outputs": []
    },
    {
      "cell_type": "code",
      "source": [
        "def create_vit_encoder(image_size):\n",
        "    inputs = layers.Input(shape=(image_size, image_size, 3))\n",
        "    patch_size = 16\n",
        "    num_patches = (image_size // patch_size) ** 2\n",
        "    projection_dim = 768\n",
        "\n",
        "    patches = layers.Conv2D(\n",
        "        filters=projection_dim,\n",
        "        kernel_size=patch_size,\n",
        "        strides=patch_size,\n",
        "        padding=\"valid\"\n",
        "    )(inputs)\n",
        "    patches = layers.Reshape((num_patches, projection_dim))(patches)\n",
        "\n",
        "    positional_embedding = layers.Embedding(input_dim=num_patches, output_dim=projection_dim)\n",
        "    positions = tf.range(start=0, limit=num_patches, delta=1)\n",
        "    encoded_patches = patches + positional_embedding(positions)\n",
        "\n",
        "    for _ in range(num_transformer_blocks):\n",
        "        x1 = layers.LayerNormalization(epsilon=1e-6)(encoded_patches)\n",
        "        attention_output = layers.MultiHeadAttention(\n",
        "            num_heads=num_heads, key_dim=projection_dim)(x1, x1)\n",
        "        x2 = layers.Add()([x1, attention_output])\n",
        "        x3 = layers.LayerNormalization(epsilon=1e-6)(x2)\n",
        "        ffn_output = layers.Dense(ff_dim, activation=\"relu\")(x3)\n",
        "        ffn_output = layers.Dense(projection_dim)(ffn_output)\n",
        "        encoded_patches = layers.Add()([x2, ffn_output])\n",
        "\n",
        "    model = models.Model(inputs, encoded_patches, name=\"vit_encoder\")\n",
        "    return model\n",
        "\n",
        "def create_image_encoder(image_size, embedding_dim):\n",
        "    inputs = layers.Input(shape=(image_size, image_size, 3))\n",
        "    vit = create_vit_encoder(image_size)\n",
        "    x = vit(inputs)\n",
        "    x = layers.GlobalAveragePooling1D()(x)\n",
        "    # Project to shared embedding dimension\n",
        "    outputs = layers.Dense(embedding_dim)(x)\n",
        "    model = models.Model(inputs, outputs, name=\"image_encoder\")\n",
        "    return model\n",
        "\n",
        "def create_text_encoder(vocab_size, embedding_dim, max_length):\n",
        "    inputs = layers.Input(shape=(max_length,))\n",
        "    x = layers.Embedding(vocab_size, embedding_dim, mask_zero=True)(inputs)\n",
        "\n",
        "    positional_embeddings = layers.Embedding(max_length, embedding_dim)(tf.range(start=0, limit=max_length, delta=1))\n",
        "    x = x + positional_embeddings\n",
        "\n",
        "    for _ in range(num_transformer_blocks):\n",
        "        x1 = layers.LayerNormalization(epsilon=1e-6)(x)\n",
        "        attention_output = layers.MultiHeadAttention(\n",
        "            num_heads=num_heads, key_dim=embedding_dim)(x1, x1)\n",
        "        x2 = layers.Add()([x1, attention_output])\n",
        "        x3 = layers.LayerNormalization(epsilon=1e-6)(x2)\n",
        "        ffn_output = layers.Dense(ff_dim, activation=\"relu\")(x3)\n",
        "        ffn_output = layers.Dense(embedding_dim)(ffn_output)\n",
        "        x = layers.Add()([x2, ffn_output])\n",
        "    x = layers.GlobalAveragePooling1D()(x)\n",
        "    outputs = layers.Dense(embedding_dim)(x)\n",
        "    model = models.Model(inputs, outputs, name=\"text_encoder\")\n",
        "    return model\n"
      ],
      "metadata": {
        "id": "eYnUP8LfkoDA"
      },
      "execution_count": 20,
      "outputs": []
    },
    {
      "cell_type": "code",
      "source": [
        "image_encoder = create_image_encoder(image_size, embedding_dim)\n",
        "text_encoder = create_text_encoder(vocab_size, embedding_dim, max_length)"
      ],
      "metadata": {
        "id": "0gwCDiuWkqC4"
      },
      "execution_count": 21,
      "outputs": []
    },
    {
      "cell_type": "code",
      "source": [
        "class CLIPModel(tf.keras.Model):\n",
        "    def __init__(self, image_encoder, text_encoder, temperature=0.05):\n",
        "        super(CLIPModel, self).__init__()\n",
        "        self.image_encoder = image_encoder\n",
        "        self.text_encoder = text_encoder\n",
        "        self.temperature = tf.Variable(temperature, trainable=True, dtype=tf.float32)\n",
        "\n",
        "    def compile(self, optimizer):\n",
        "        super(CLIPModel, self).compile()\n",
        "        self.optimizer = optimizer\n",
        "        self.loss_tracker = tf.keras.metrics.Mean(name=\"loss\")\n",
        "\n",
        "    @property\n",
        "    def metrics(self):\n",
        "        return [self.loss_tracker]\n",
        "\n",
        "    def train_step(self, data):\n",
        "        images, texts = data  # images: (batch, H, W, 3); texts: (batch, max_length)\n",
        "\n",
        "        with tf.GradientTape() as tape:\n",
        "            img_embeddings = self.image_encoder(images, training=True)\n",
        "            txt_embeddings = self.text_encoder(texts, training=True)\n",
        "\n",
        "            img_embeddings = tf.math.l2_normalize(img_embeddings, axis=1)\n",
        "            txt_embeddings = tf.math.l2_normalize(txt_embeddings, axis=1)\n",
        "\n",
        "            # Compute similarity logits: (batch, batch)\n",
        "            logits = tf.matmul(img_embeddings, txt_embeddings, transpose_b=True)\n",
        "            logits = logits / self.temperature\n",
        "\n",
        "            # Ground truth: diagonal elements are the matching pairs.\n",
        "            batch_size = tf.shape(images)[0]\n",
        "            labels = tf.range(batch_size)\n",
        "\n",
        "            # Compute cross-entropy loss for image->text and text->image\n",
        "            loss_i2t = tf.keras.losses.sparse_categorical_crossentropy(labels, logits, from_logits=True)\n",
        "            loss_t2i = tf.keras.losses.sparse_categorical_crossentropy(labels, tf.transpose(logits), from_logits=True)\n",
        "            loss = (loss_i2t + loss_t2i) / 2.0\n",
        "            # implemented indirectly via cross-entropy on the similarity logits\n",
        "\n",
        "        # Compute gradients and update weights\n",
        "        gradients = tape.gradient(loss, self.trainable_variables)\n",
        "        self.optimizer.apply_gradients(zip(gradients, self.trainable_variables))\n",
        "        self.loss_tracker.update_state(loss)\n",
        "        return {\"loss\": self.loss_tracker.result()}\n",
        "\n",
        "    def call(self, inputs):\n",
        "        images, texts = inputs\n",
        "        img_embeddings = tf.math.l2_normalize(self.image_encoder(images, training=False), axis=1)\n",
        "        txt_embeddings = tf.math.l2_normalize(self.text_encoder(texts, training=False), axis=1)\n",
        "        return img_embeddings, txt_embeddings"
      ],
      "metadata": {
        "id": "bFEfSXFhkuoq"
      },
      "execution_count": 22,
      "outputs": []
    },
    {
      "cell_type": "code",
      "source": [
        "clip_model = CLIPModel(image_encoder, text_encoder, temperature=0.05)\n",
        "optimizer = tf.keras.optimizers.Adam(learning_rate=1e-4)\n",
        "clip_model.compile(optimizer=optimizer)"
      ],
      "metadata": {
        "id": "Ps6-9P5nkw_S"
      },
      "execution_count": 23,
      "outputs": []
    },
    {
      "cell_type": "code",
      "source": [
        "def get_text_embedding(text):\n",
        "    seq = tokenizer.texts_to_sequences([text])[0]\n",
        "    seq = tf.keras.preprocessing.sequence.pad_sequences([seq], maxlen=max_length, padding='post')\n",
        "    emb = text_encoder(seq, training=False)\n",
        "    emb = tf.math.l2_normalize(emb, axis=1)\n",
        "    return emb\n",
        "\n",
        "def get_image_embedding(image_path):\n",
        "    img = load_img(image_path, target_size=(image_size, image_size))\n",
        "    img = img_to_array(img) / 255.0\n",
        "    img = np.expand_dims(img, axis=0)\n",
        "    emb = image_encoder(img, training=False)\n",
        "    emb = tf.math.l2_normalize(emb, axis=1)\n",
        "    return emb\n",
        "\n",
        "test_image = 'abdomen.jpg'\n",
        "img_emb = get_image_embedding(test_image)\n",
        "print(\"Image embedding:\", img_emb.numpy())\n",
        "\n",
        "all_reports = radiology_df['report'].tolist()\n",
        "all_text_embeddings = []\n",
        "for report in all_reports:\n",
        "    emb = get_text_embedding(report)\n",
        "    all_text_embeddings.append(emb.numpy()[0])\n",
        "all_text_embeddings = np.array(all_text_embeddings)\n",
        "\n",
        "cosine_sim = np.dot(all_text_embeddings, img_emb.numpy()[0])\n",
        "best_idx = np.argmax(cosine_sim)\n",
        "print(\"\\nBest matching report:\")\n",
        "print(all_reports[best_idx])"
      ],
      "metadata": {
        "id": "ak9AcSOLj9pc",
        "colab": {
          "base_uri": "https://localhost:8080/"
        },
        "outputId": "be6f595e-e061-489b-c7cf-3f9fe7ae3a6b"
      },
      "execution_count": 24,
      "outputs": [
        {
          "output_type": "stream",
          "name": "stdout",
          "text": [
            "Image embedding: [[ 0.00965902  0.05617394 -0.00480315  0.13921039 -0.03806971  0.00935506\n",
            "  -0.08683392  0.06702694  0.06827378 -0.01343728 -0.01309316 -0.02264287\n",
            "   0.04244447 -0.01073371  0.00099737  0.03648453 -0.00451322 -0.01818935\n",
            "  -0.03491495 -0.06296363  0.1037723  -0.16278078  0.0425523  -0.00860351\n",
            "   0.07964009  0.02944987 -0.08265773  0.00713525 -0.02819208 -0.02735495\n",
            "  -0.07291498  0.07218514 -0.04883492  0.01759297 -0.0572625   0.03360964\n",
            "   0.02892131  0.05479932 -0.04065585  0.05515428  0.06597186 -0.12187972\n",
            "  -0.0556112   0.10479978  0.00545649 -0.06307907 -0.00395776  0.01946174\n",
            "  -0.04583752 -0.0873009  -0.00197607 -0.09813466 -0.1087882  -0.14737268\n",
            "  -0.03102348  0.01701168  0.07662412 -0.00266529 -0.05465387 -0.0062529\n",
            "  -0.04952064  0.03253757 -0.05552782  0.131251   -0.08880008  0.02957746\n",
            "   0.11741623 -0.00260198  0.01464265  0.07043897  0.07968143 -0.0147215\n",
            "   0.07501867 -0.08084721 -0.03209046 -0.06152136 -0.07472274  0.06291267\n",
            "  -0.08243603 -0.01939245 -0.03829603 -0.17310071 -0.03716382  0.13674207\n",
            "  -0.03508577  0.04231786 -0.10927528  0.02570446  0.05416995 -0.01102687\n",
            "   0.07626343  0.13362163 -0.09363365  0.04518843  0.04197654  0.05598562\n",
            "  -0.01119678 -0.01401713 -0.04539643 -0.0444534  -0.00606966  0.0924445\n",
            "  -0.07928896 -0.0279462   0.07794179  0.01214716 -0.0801157  -0.06343349\n",
            "  -0.02152748  0.01923269  0.05853945 -0.05215335  0.15148444 -0.05136849\n",
            "   0.04263713  0.04298463  0.07912149 -0.02026302 -0.00092426  0.01046843\n",
            "  -0.02654156  0.03150048 -0.00492482 -0.10313868 -0.04963592  0.04659298\n",
            "   0.07721432 -0.15632412 -0.02660853 -0.01954971 -0.05507854 -0.01964824\n",
            "  -0.00104256  0.03013563  0.00498788  0.11647134  0.00444977 -0.03729662\n",
            "  -0.03158863 -0.09139177 -0.01080973  0.05894131  0.12698147  0.1790315\n",
            "  -0.02032825  0.10006359  0.10283861  0.00486738  0.02873069  0.0424065\n",
            "  -0.05740269 -0.01342199  0.05610278 -0.15439193 -0.09433395  0.02351682\n",
            "  -0.00490244  0.07997367 -0.01811202  0.04945138 -0.03126998 -0.00309837\n",
            "   0.06294616 -0.06356147 -0.0183339   0.0137344  -0.08289719  0.02513142\n",
            "  -0.06573033 -0.04822162 -0.06605538 -0.05103708 -0.06689102  0.05728989\n",
            "   0.02568297  0.00872193  0.00995458 -0.01070239  0.03369736  0.07238723\n",
            "  -0.06499066 -0.05812411  0.0079601  -0.056006    0.01621588  0.00973459\n",
            "   0.09306912  0.02045789  0.05879838 -0.13963231 -0.04043422  0.02658757\n",
            "  -0.09458376 -0.01782396  0.09543952  0.05510965 -0.0103079   0.05277603\n",
            "   0.01550242  0.08335493  0.04398746  0.10654559  0.04243741  0.09136457\n",
            "   0.00584894  0.05095107 -0.00771375 -0.0135189   0.07377678  0.08881121\n",
            "  -0.00806721  0.03722305 -0.04916563 -0.01518325 -0.06049583 -0.02484238\n",
            "   0.05812739 -0.03852706  0.00957558  0.0549849   0.05038976  0.02057181\n",
            "   0.02792899 -0.11644559  0.0427901   0.01190624  0.09251075 -0.03694363\n",
            "  -0.02083152  0.0551805   0.02964143  0.02735449 -0.0662778  -0.0428784\n",
            "  -0.03959538 -0.0854497  -0.00775944 -0.07116912 -0.01518626 -0.06657345\n",
            "   0.07449754  0.03573587  0.01252261 -0.11649065  0.05630526  0.0165967\n",
            "  -0.05038765  0.01042219  0.08076788 -0.04123114 -0.06711798 -0.02461339\n",
            "  -0.00956316  0.07702453  0.03301142 -0.00025436]]\n",
            "\n",
            "Best matching report:\n",
            "FINDINGS: . IMPRESSION: Slight cardiomegaly. Clear lungs.\n"
          ]
        }
      ]
    },
    {
      "cell_type": "code",
      "source": [
        "epochs = 1 #you can increase it\n",
        "clip_model.fit(ds, epochs=epochs)"
      ],
      "metadata": {
        "colab": {
          "base_uri": "https://localhost:8080/"
        },
        "id": "y7_LT3KSk0Mp",
        "outputId": "80117ed6-fee1-4ff2-87aa-2ad90a2ce2ab"
      },
      "execution_count": null,
      "outputs": [
        {
          "output_type": "stream",
          "name": "stdout",
          "text": [
            "    238/Unknown \u001b[1m268s\u001b[0m 934ms/step - loss: 2.7974"
          ]
        }
      ]
    }
  ]
}